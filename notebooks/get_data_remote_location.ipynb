{
 "cells": [
  {
   "cell_type": "code",
   "execution_count": 1,
   "id": "3ed00b28",
   "metadata": {},
   "outputs": [],
   "source": [
    "from datetime import datetime as dt"
   ]
  },
  {
   "cell_type": "code",
   "execution_count": 2,
   "id": "e368d83f",
   "metadata": {},
   "outputs": [
    {
     "data": {
      "text/plain": [
       "datetime.datetime(2023, 1, 24, 2, 18, 53, 45506)"
      ]
     },
     "execution_count": 2,
     "metadata": {},
     "output_type": "execute_result"
    }
   ],
   "source": [
    "dt.now()"
   ]
  },
  {
   "cell_type": "code",
   "execution_count": 3,
   "id": "477b75f1",
   "metadata": {},
   "outputs": [
    {
     "data": {
      "text/plain": [
       "datetime.datetime"
      ]
     },
     "execution_count": 3,
     "metadata": {},
     "output_type": "execute_result"
    }
   ],
   "source": [
    "type(dt.now())"
   ]
  },
  {
   "cell_type": "code",
   "execution_count": 4,
   "id": "b47b6972",
   "metadata": {},
   "outputs": [
    {
     "data": {
      "text/plain": [
       "'2022-10-28-00'"
      ]
     },
     "execution_count": 4,
     "metadata": {},
     "output_type": "execute_result"
    }
   ],
   "source": [
    "dt.strftime(dt(2022, 10, 28, 0, 37, 52, 167871),'%Y-%m-%d-%H')"
   ]
  },
  {
   "cell_type": "code",
   "execution_count": 5,
   "id": "4ab80e43",
   "metadata": {},
   "outputs": [
    {
     "data": {
      "text/plain": [
       "'2022-10-0'"
      ]
     },
     "execution_count": 5,
     "metadata": {},
     "output_type": "execute_result"
    }
   ],
   "source": [
    "dt.strftime(dt(2022, 10, 28, 0, 37, 52, 167871),'%Y-%m-%-H')"
   ]
  },
  {
   "cell_type": "code",
   "execution_count": 6,
   "id": "20c88e4a",
   "metadata": {},
   "outputs": [],
   "source": [
    "dt_part = dt.strftime(dt(2022, 10, 28, 0, 37, 52, 167871),'%Y-%m-%-H')"
   ]
  },
  {
   "cell_type": "code",
   "execution_count": 7,
   "id": "64c7f6fb",
   "metadata": {},
   "outputs": [
    {
     "data": {
      "text/plain": [
       "'2022-10-0'"
      ]
     },
     "execution_count": 7,
     "metadata": {},
     "output_type": "execute_result"
    }
   ],
   "source": [
    "dt_part"
   ]
  },
  {
   "cell_type": "code",
   "execution_count": 8,
   "id": "a99d9794",
   "metadata": {},
   "outputs": [],
   "source": [
    "from datetime import timedelta as td"
   ]
  },
  {
   "cell_type": "code",
   "execution_count": 11,
   "id": "8002eec5",
   "metadata": {},
   "outputs": [
    {
     "data": {
      "text/plain": [
       "datetime.datetime(2023, 1, 24, 1, 37, 52, 167871)"
      ]
     },
     "execution_count": 11,
     "metadata": {},
     "output_type": "execute_result"
    }
   ],
   "source": [
    "dt(2023, 1, 24, 0, 37, 52, 167871) + td(hours=1)"
   ]
  },
  {
   "cell_type": "code",
   "execution_count": 13,
   "id": "5a7a1cf5",
   "metadata": {},
   "outputs": [
    {
     "data": {
      "text/plain": [
       "datetime.datetime(2023, 1, 24, 0, 0)"
      ]
     },
     "execution_count": 13,
     "metadata": {},
     "output_type": "execute_result"
    }
   ],
   "source": [
    "dt.strptime('2023-1-24-00', '%Y-%m-%d-%H')"
   ]
  },
  {
   "cell_type": "code",
   "execution_count": 14,
   "id": "94295d54",
   "metadata": {},
   "outputs": [
    {
     "data": {
      "text/plain": [
       "datetime.datetime(2023, 1, 24, 1, 0)"
      ]
     },
     "execution_count": 14,
     "metadata": {},
     "output_type": "execute_result"
    }
   ],
   "source": [
    "dt.strptime('2023-1-24-00', '%Y-%m-%d-%H') + td(hours=1)"
   ]
  },
  {
   "cell_type": "code",
   "execution_count": 15,
   "id": "0ce12290",
   "metadata": {},
   "outputs": [
    {
     "data": {
      "text/plain": [
       "'2023-01-24-1'"
      ]
     },
     "execution_count": 15,
     "metadata": {},
     "output_type": "execute_result"
    }
   ],
   "source": [
    "dt.strftime(dt.strptime('2023-1-24-00', '%Y-%m-%d-%H') + td(hours=1), '%Y-%m-%d-%-H')"
   ]
  },
  {
   "cell_type": "code",
   "execution_count": 16,
   "id": "003e1b4e",
   "metadata": {},
   "outputs": [],
   "source": [
    "next_file = f\"{dt.strftime(dt.strptime('2023-1-24-00', '%Y-%m-%d-%H') + td(hours=1), '%Y-%m-%d-%-H')}.json.gz\""
   ]
  },
  {
   "cell_type": "code",
   "execution_count": 17,
   "id": "339ec3b5",
   "metadata": {},
   "outputs": [
    {
     "data": {
      "text/plain": [
       "'2023-01-24-1.json.gz'"
      ]
     },
     "execution_count": 17,
     "metadata": {},
     "output_type": "execute_result"
    }
   ],
   "source": [
    "next_file"
   ]
  },
  {
   "cell_type": "code",
   "execution_count": 18,
   "id": "785952d8",
   "metadata": {},
   "outputs": [],
   "source": [
    "import requests"
   ]
  },
  {
   "cell_type": "code",
   "execution_count": 19,
   "id": "2ba828d1",
   "metadata": {},
   "outputs": [],
   "source": [
    "res = requests.get(f'https://data.gharchive.org/{next_file}')"
   ]
  },
  {
   "cell_type": "code",
   "execution_count": 21,
   "id": "3092cd7f",
   "metadata": {},
   "outputs": [
    {
     "data": {
      "text/plain": [
       "<Response [200]>"
      ]
     },
     "execution_count": 21,
     "metadata": {},
     "output_type": "execute_result"
    }
   ],
   "source": [
    "res"
   ]
  },
  {
   "cell_type": "code",
   "execution_count": 23,
   "id": "535d87dd",
   "metadata": {},
   "outputs": [],
   "source": [
    "file = open(f'data/{next_file}','wb')"
   ]
  },
  {
   "cell_type": "code",
   "execution_count": 24,
   "id": "71a89c77",
   "metadata": {},
   "outputs": [
    {
     "data": {
      "text/plain": [
       "120688799"
      ]
     },
     "execution_count": 24,
     "metadata": {},
     "output_type": "execute_result"
    }
   ],
   "source": [
    "file.write(res.content)"
   ]
  },
  {
   "cell_type": "code",
   "execution_count": 25,
   "id": "5060bd8e",
   "metadata": {},
   "outputs": [],
   "source": [
    "file.close()"
   ]
  },
  {
   "cell_type": "code",
   "execution_count": 27,
   "id": "8196eda3",
   "metadata": {},
   "outputs": [
    {
     "name": "stdout",
     "output_type": "stream",
     "text": [
      "total 237628\n",
      "-rw-r--r-- 1 hfenelsoftllc hfenelsoftllc  62945212 Oct 28 01:05 2022-10-28-1.json.gz\n",
      "-rw-r--r-- 1 hfenelsoftllc hfenelsoftllc  59686777 Jan 24 02:39 2023-01-21-0.json.gz\n",
      "-rw-r--r-- 1 hfenelsoftllc hfenelsoftllc 120688799 Jan 24 02:39 2023-01-24-1.json.gz\n"
     ]
    }
   ],
   "source": [
    "!ls -lrt data/"
   ]
  },
  {
   "cell_type": "code",
   "execution_count": null,
   "id": "781e87c4",
   "metadata": {},
   "outputs": [],
   "source": []
  }
 ],
 "metadata": {
  "kernelspec": {
   "display_name": "Python 3 (ipykernel)",
   "language": "python",
   "name": "python3"
  },
  "language_info": {
   "codemirror_mode": {
    "name": "ipython",
    "version": 3
   },
   "file_extension": ".py",
   "mimetype": "text/x-python",
   "name": "python",
   "nbconvert_exporter": "python",
   "pygments_lexer": "ipython3",
   "version": "3.9.16"
  },
  "vscode": {
   "interpreter": {
    "hash": "59fd66f99379daa34f6ec994426b3faaeb93c815a339923106359ffea855e2af"
   }
  }
 },
 "nbformat": 4,
 "nbformat_minor": 5
}
