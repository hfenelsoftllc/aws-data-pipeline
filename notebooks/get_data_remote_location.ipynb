{
 "cells": [
  {
   "cell_type": "code",
   "execution_count": 1,
   "id": "3ed00b28",
   "metadata": {},
   "outputs": [],
   "source": [
    "from datetime import datetime as dt"
   ]
  },
  {
   "cell_type": "code",
   "execution_count": 2,
   "id": "e368d83f",
   "metadata": {},
   "outputs": [
    {
     "data": {
      "text/plain": [
       "datetime.datetime(2022, 10, 28, 0, 37, 52, 167871)"
      ]
     },
     "execution_count": 2,
     "metadata": {},
     "output_type": "execute_result"
    }
   ],
   "source": [
    "dt.now()"
   ]
  },
  {
   "cell_type": "code",
   "execution_count": 3,
   "id": "477b75f1",
   "metadata": {},
   "outputs": [
    {
     "data": {
      "text/plain": [
       "datetime.datetime"
      ]
     },
     "execution_count": 3,
     "metadata": {},
     "output_type": "execute_result"
    }
   ],
   "source": [
    "type(dt.now())"
   ]
  },
  {
   "cell_type": "code",
   "execution_count": 12,
   "id": "b47b6972",
   "metadata": {},
   "outputs": [
    {
     "data": {
      "text/plain": [
       "'2022-10-28-00'"
      ]
     },
     "execution_count": 12,
     "metadata": {},
     "output_type": "execute_result"
    }
   ],
   "source": [
    "dt.strftime(dt(2022, 10, 28, 0, 37, 52, 167871),'%Y-%m-%d-%H')"
   ]
  },
  {
   "cell_type": "code",
   "execution_count": 13,
   "id": "4ab80e43",
   "metadata": {},
   "outputs": [
    {
     "data": {
      "text/plain": [
       "'2022-10-0'"
      ]
     },
     "execution_count": 13,
     "metadata": {},
     "output_type": "execute_result"
    }
   ],
   "source": [
    "dt.strftime(dt(2022, 10, 28, 0, 37, 52, 167871),'%Y-%m-%-H')"
   ]
  },
  {
   "cell_type": "code",
   "execution_count": 14,
   "id": "20c88e4a",
   "metadata": {},
   "outputs": [],
   "source": [
    "dt_part = dt.strftime(dt(2022, 10, 28, 0, 37, 52, 167871),'%Y-%m-%-H')"
   ]
  },
  {
   "cell_type": "code",
   "execution_count": 15,
   "id": "64c7f6fb",
   "metadata": {},
   "outputs": [
    {
     "data": {
      "text/plain": [
       "'2022-10-0'"
      ]
     },
     "execution_count": 15,
     "metadata": {},
     "output_type": "execute_result"
    }
   ],
   "source": [
    "dt_part"
   ]
  },
  {
   "cell_type": "code",
   "execution_count": 16,
   "id": "a99d9794",
   "metadata": {},
   "outputs": [],
   "source": [
    "from datetime import timedelta as td"
   ]
  },
  {
   "cell_type": "code",
   "execution_count": 17,
   "id": "8002eec5",
   "metadata": {},
   "outputs": [
    {
     "data": {
      "text/plain": [
       "datetime.datetime(2022, 10, 28, 1, 37, 52, 167871)"
      ]
     },
     "execution_count": 17,
     "metadata": {},
     "output_type": "execute_result"
    }
   ],
   "source": [
    "dt(2022, 10, 28, 0, 37, 52, 167871) + td(hours=1)"
   ]
  },
  {
   "cell_type": "code",
   "execution_count": 18,
   "id": "5a7a1cf5",
   "metadata": {},
   "outputs": [
    {
     "data": {
      "text/plain": [
       "datetime.datetime(2022, 10, 28, 0, 0)"
      ]
     },
     "execution_count": 18,
     "metadata": {},
     "output_type": "execute_result"
    }
   ],
   "source": [
    "dt.strptime('2022-10-28-00', '%Y-%m-%d-%H')"
   ]
  },
  {
   "cell_type": "code",
   "execution_count": 19,
   "id": "94295d54",
   "metadata": {},
   "outputs": [
    {
     "data": {
      "text/plain": [
       "datetime.datetime(2022, 10, 28, 1, 0)"
      ]
     },
     "execution_count": 19,
     "metadata": {},
     "output_type": "execute_result"
    }
   ],
   "source": [
    "dt.strptime('2022-10-28-00', '%Y-%m-%d-%H') + td(hours=1)"
   ]
  },
  {
   "cell_type": "code",
   "execution_count": 20,
   "id": "0ce12290",
   "metadata": {},
   "outputs": [
    {
     "data": {
      "text/plain": [
       "'2022-10-28-1'"
      ]
     },
     "execution_count": 20,
     "metadata": {},
     "output_type": "execute_result"
    }
   ],
   "source": [
    "dt.strftime(dt.strptime('2022-10-28-00', '%Y-%m-%d-%H') + td(hours=1), '%Y-%m-%d-%-H')"
   ]
  },
  {
   "cell_type": "code",
   "execution_count": 21,
   "id": "003e1b4e",
   "metadata": {},
   "outputs": [],
   "source": [
    "next_file = f\"{dt.strftime(dt.strptime('2022-10-28-00', '%Y-%m-%d-%H') + td(hours=1), '%Y-%m-%d-%-H')}.json.gz\""
   ]
  },
  {
   "cell_type": "code",
   "execution_count": 22,
   "id": "339ec3b5",
   "metadata": {},
   "outputs": [
    {
     "data": {
      "text/plain": [
       "'2022-10-28-1.json.gz'"
      ]
     },
     "execution_count": 22,
     "metadata": {},
     "output_type": "execute_result"
    }
   ],
   "source": [
    "next_file"
   ]
  },
  {
   "cell_type": "code",
   "execution_count": 23,
   "id": "785952d8",
   "metadata": {},
   "outputs": [],
   "source": [
    "import requests"
   ]
  },
  {
   "cell_type": "code",
   "execution_count": 24,
   "id": "2ba828d1",
   "metadata": {},
   "outputs": [],
   "source": [
    "res = requests.get(f'https://data.gharchive.org/{next_file}')"
   ]
  },
  {
   "cell_type": "code",
   "execution_count": 26,
   "id": "535d87dd",
   "metadata": {},
   "outputs": [],
   "source": [
    "file = open(f'notebooks/data/{next_file}','wb')"
   ]
  },
  {
   "cell_type": "code",
   "execution_count": 27,
   "id": "71a89c77",
   "metadata": {},
   "outputs": [
    {
     "data": {
      "text/plain": [
       "62945212"
      ]
     },
     "execution_count": 27,
     "metadata": {},
     "output_type": "execute_result"
    }
   ],
   "source": [
    "file.write(res.content)"
   ]
  },
  {
   "cell_type": "code",
   "execution_count": 28,
   "id": "5060bd8e",
   "metadata": {},
   "outputs": [],
   "source": [
    "file.close()"
   ]
  },
  {
   "cell_type": "code",
   "execution_count": 29,
   "id": "8196eda3",
   "metadata": {},
   "outputs": [
    {
     "name": "stdout",
     "output_type": "stream",
     "text": [
      "total 61472\r\n",
      "-rw-r--r-- 1 hfenelsoftllc hfenelsoftllc 62945212 Oct 28 01:05 2022-10-28-1.json.gz\r\n"
     ]
    }
   ],
   "source": [
    "!ls -lrt notebooks/data"
   ]
  },
  {
   "cell_type": "code",
   "execution_count": null,
   "id": "781e87c4",
   "metadata": {},
   "outputs": [],
   "source": []
  }
 ],
 "metadata": {
  "kernelspec": {
   "display_name": "Python 3 (ipykernel)",
   "language": "python",
   "name": "python3"
  },
  "language_info": {
   "codemirror_mode": {
    "name": "ipython",
    "version": 3
   },
   "file_extension": ".py",
   "mimetype": "text/x-python",
   "name": "python",
   "nbconvert_exporter": "python",
   "pygments_lexer": "ipython3",
   "version": "3.9.15"
  }
 },
 "nbformat": 4,
 "nbformat_minor": 5
}
