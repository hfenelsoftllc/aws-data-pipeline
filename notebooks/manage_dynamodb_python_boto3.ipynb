{
 "cells": [
  {
   "cell_type": "code",
   "execution_count": 1,
   "metadata": {},
   "outputs": [],
   "source": [
    "import os"
   ]
  },
  {
   "cell_type": "code",
   "execution_count": 2,
   "metadata": {},
   "outputs": [],
   "source": [
    "os.environ.get('AWS_PROFILE')"
   ]
  },
  {
   "cell_type": "code",
   "execution_count": 3,
   "metadata": {},
   "outputs": [],
   "source": [
    "import boto3"
   ]
  },
  {
   "cell_type": "code",
   "execution_count": 4,
   "metadata": {},
   "outputs": [
    {
     "data": {
      "text/plain": [
       "'hfeneldevcloud'"
      ]
     },
     "execution_count": 4,
     "metadata": {},
     "output_type": "execute_result"
    }
   ],
   "source": [
    "import os\n",
    "os.environ.setdefault('AWS_PROFILE', 'hfeneldevcloud')"
   ]
  },
  {
   "cell_type": "code",
   "execution_count": 5,
   "metadata": {},
   "outputs": [],
   "source": [
    "dynamo_client = boto3.client('dynamodb')"
   ]
  },
  {
   "cell_type": "code",
   "execution_count": 6,
   "metadata": {},
   "outputs": [
    {
     "data": {
      "text/plain": [
       "{'TableNames': ['jobs'],\n",
       " 'ResponseMetadata': {'RequestId': 'H7SQ07O1KJAVLQ6I4DD9Q53RHFVV4KQNSO5AEMVJF66Q9ASUAAJG',\n",
       "  'HTTPStatusCode': 200,\n",
       "  'HTTPHeaders': {'server': 'Server',\n",
       "   'date': 'Wed, 25 Jan 2023 08:10:16 GMT',\n",
       "   'content-type': 'application/x-amz-json-1.0',\n",
       "   'content-length': '23',\n",
       "   'connection': 'keep-alive',\n",
       "   'x-amzn-requestid': 'H7SQ07O1KJAVLQ6I4DD9Q53RHFVV4KQNSO5AEMVJF66Q9ASUAAJG',\n",
       "   'x-amz-crc32': '312962171'},\n",
       "  'RetryAttempts': 0}}"
      ]
     },
     "execution_count": 6,
     "metadata": {},
     "output_type": "execute_result"
    }
   ],
   "source": [
    "dynamo_client.list_tables()"
   ]
  },
  {
   "cell_type": "code",
   "execution_count": 15,
   "metadata": {},
   "outputs": [],
   "source": [
    "tables = dynamo_client.list_tables()['TableNames']"
   ]
  },
  {
   "cell_type": "code",
   "execution_count": 16,
   "metadata": {},
   "outputs": [
    {
     "data": {
      "text/plain": [
       "True"
      ]
     },
     "execution_count": 16,
     "metadata": {},
     "output_type": "execute_result"
    }
   ],
   "source": [
    "'jobs' in tables"
   ]
  },
  {
   "cell_type": "code",
   "execution_count": 8,
   "metadata": {},
   "outputs": [
    {
     "name": "stdout",
     "output_type": "stream",
     "text": [
      "{'TableDescription': {'AttributeDefinitions': [{'AttributeName': 'job_id', 'AttributeType': 'S'}], 'TableName': 'jobs', 'KeySchema': [{'AttributeName': 'job_id', 'KeyType': 'HASH'}], 'TableStatus': 'CREATING', 'CreationDateTime': datetime.datetime(2023, 1, 24, 0, 47, 20, 462000, tzinfo=tzlocal()), 'ProvisionedThroughput': {'NumberOfDecreasesToday': 0, 'ReadCapacityUnits': 0, 'WriteCapacityUnits': 0}, 'TableSizeBytes': 0, 'ItemCount': 0, 'TableArn': 'arn:aws:dynamodb:us-east-1:321886157695:table/jobs', 'TableId': 'cd7eddb6-8be2-49a1-add0-f8bd8b20aa92', 'BillingModeSummary': {'BillingMode': 'PAY_PER_REQUEST'}}, 'ResponseMetadata': {'RequestId': 'CNEN2IURQC0Q28OAL2L8LSBO6FVV4KQNSO5AEMVJF66Q9ASUAAJG', 'HTTPStatusCode': 200, 'HTTPHeaders': {'server': 'Server', 'date': 'Tue, 24 Jan 2023 05:47:20 GMT', 'content-type': 'application/x-amz-json-1.0', 'content-length': '602', 'connection': 'keep-alive', 'x-amzn-requestid': 'CNEN2IURQC0Q28OAL2L8LSBO6FVV4KQNSO5AEMVJF66Q9ASUAAJG', 'x-amz-crc32': '2111971132'}, 'RetryAttempts': 0}}\n"
     ]
    }
   ],
   "source": [
    "if 'jobs' not in tables:\n",
    "    response = dynamo_client.create_table(\n",
    "        AttributeDefinitions=[\n",
    "            {\n",
    "                'AttributeName': 'job_id',\n",
    "                'AttributeType': 'S'\n",
    "            }\n",
    "        ],\n",
    "        TableName='jobs',\n",
    "        KeySchema=[\n",
    "            {\n",
    "                'AttributeName': 'job_id',\n",
    "                'KeyType': 'HASH'\n",
    "            },\n",
    "        ],\n",
    "        BillingMode='PAY_PER_REQUEST'\n",
    "    )\n",
    "    print(response)"
   ]
  },
  {
   "cell_type": "code",
   "execution_count": 17,
   "metadata": {},
   "outputs": [
    {
     "data": {
      "text/plain": [
       "{'TableNames': ['job_run_details', 'jobs'],\n",
       " 'ResponseMetadata': {'RequestId': '0K33GADUFK09NGNGN5EAI07G4RVV4KQNSO5AEMVJF66Q9ASUAAJG',\n",
       "  'HTTPStatusCode': 200,\n",
       "  'HTTPHeaders': {'server': 'Server',\n",
       "   'date': 'Tue, 24 Jan 2023 08:29:48 GMT',\n",
       "   'content-type': 'application/x-amz-json-1.0',\n",
       "   'content-length': '41',\n",
       "   'connection': 'keep-alive',\n",
       "   'x-amzn-requestid': '0K33GADUFK09NGNGN5EAI07G4RVV4KQNSO5AEMVJF66Q9ASUAAJG',\n",
       "   'x-amz-crc32': '3073332947'},\n",
       "  'RetryAttempts': 0}}"
      ]
     },
     "execution_count": 17,
     "metadata": {},
     "output_type": "execute_result"
    }
   ],
   "source": [
    "dynamo_client.list_tables()"
   ]
  },
  {
   "cell_type": "code",
   "execution_count": 18,
   "metadata": {},
   "outputs": [
    {
     "data": {
      "text/plain": [
       "{'Table': {'AttributeDefinitions': [{'AttributeName': 'job_id',\n",
       "    'AttributeType': 'S'}],\n",
       "  'TableName': 'jobs',\n",
       "  'KeySchema': [{'AttributeName': 'job_id', 'KeyType': 'HASH'}],\n",
       "  'TableStatus': 'ACTIVE',\n",
       "  'CreationDateTime': datetime.datetime(2023, 1, 24, 0, 47, 20, 462000, tzinfo=tzlocal()),\n",
       "  'ProvisionedThroughput': {'NumberOfDecreasesToday': 0,\n",
       "   'ReadCapacityUnits': 0,\n",
       "   'WriteCapacityUnits': 0},\n",
       "  'TableSizeBytes': 0,\n",
       "  'ItemCount': 0,\n",
       "  'TableArn': 'arn:aws:dynamodb:us-east-1:321886157695:table/jobs',\n",
       "  'TableId': 'cd7eddb6-8be2-49a1-add0-f8bd8b20aa92',\n",
       "  'BillingModeSummary': {'BillingMode': 'PAY_PER_REQUEST',\n",
       "   'LastUpdateToPayPerRequestDateTime': datetime.datetime(2023, 1, 24, 0, 47, 20, 462000, tzinfo=tzlocal())}},\n",
       " 'ResponseMetadata': {'RequestId': 'MUDUGHVFJ0QHCNGTIPRGKOF9ORVV4KQNSO5AEMVJF66Q9ASUAAJG',\n",
       "  'HTTPStatusCode': 200,\n",
       "  'HTTPHeaders': {'server': 'Server',\n",
       "   'date': 'Tue, 24 Jan 2023 08:30:02 GMT',\n",
       "   'content-type': 'application/x-amz-json-1.0',\n",
       "   'content-length': '695',\n",
       "   'connection': 'keep-alive',\n",
       "   'x-amzn-requestid': 'MUDUGHVFJ0QHCNGTIPRGKOF9ORVV4KQNSO5AEMVJF66Q9ASUAAJG',\n",
       "   'x-amz-crc32': '2165676155'},\n",
       "  'RetryAttempts': 0}}"
      ]
     },
     "execution_count": 18,
     "metadata": {},
     "output_type": "execute_result"
    }
   ],
   "source": [
    "dynamo_client.describe_table(TableName='jobs')"
   ]
  },
  {
   "cell_type": "code",
   "execution_count": 19,
   "metadata": {},
   "outputs": [],
   "source": [
    "dynamodb_resource = boto3.resource('dynamodb')"
   ]
  },
  {
   "cell_type": "code",
   "execution_count": 20,
   "metadata": {},
   "outputs": [
    {
     "data": {
      "text/plain": [
       "boto3.resources.factory.dynamodb.ServiceResource"
      ]
     },
     "execution_count": 20,
     "metadata": {},
     "output_type": "execute_result"
    }
   ],
   "source": [
    "type(dynamodb_resource)"
   ]
  },
  {
   "cell_type": "code",
   "execution_count": 21,
   "metadata": {},
   "outputs": [],
   "source": [
    "job_details_table = dynamodb_resource.Table('jobs')"
   ]
  },
  {
   "cell_type": "code",
   "execution_count": 22,
   "metadata": {},
   "outputs": [
    {
     "data": {
      "text/plain": [
       "boto3.resources.factory.dynamodb.Table"
      ]
     },
     "execution_count": 22,
     "metadata": {},
     "output_type": "execute_result"
    }
   ],
   "source": [
    "type(job_details_table)"
   ]
  },
  {
   "cell_type": "code",
   "execution_count": 23,
   "metadata": {},
   "outputs": [],
   "source": [
    "job_details = {\n",
    "    'job_id': 'hfeneldata_ingest',\n",
    "    'job_description': 'Ingest pipeline data to s3',\n",
    "    'is_active': 'Y'\n",
    "}"
   ]
  },
  {
   "cell_type": "code",
   "execution_count": 24,
   "metadata": {},
   "outputs": [
    {
     "data": {
      "text/plain": [
       "dict"
      ]
     },
     "execution_count": 24,
     "metadata": {},
     "output_type": "execute_result"
    }
   ],
   "source": [
    "type(job_details)"
   ]
  },
  {
   "cell_type": "code",
   "execution_count": 25,
   "metadata": {},
   "outputs": [
    {
     "data": {
      "text/plain": [
       "{'ResponseMetadata': {'RequestId': '4V0BCKRP6GAJUCMAGC4OKL7P0BVV4KQNSO5AEMVJF66Q9ASUAAJG',\n",
       "  'HTTPStatusCode': 200,\n",
       "  'HTTPHeaders': {'server': 'Server',\n",
       "   'date': 'Tue, 24 Jan 2023 08:31:04 GMT',\n",
       "   'content-type': 'application/x-amz-json-1.0',\n",
       "   'content-length': '2',\n",
       "   'connection': 'keep-alive',\n",
       "   'x-amzn-requestid': '4V0BCKRP6GAJUCMAGC4OKL7P0BVV4KQNSO5AEMVJF66Q9ASUAAJG',\n",
       "   'x-amz-crc32': '2745614147'},\n",
       "  'RetryAttempts': 0}}"
      ]
     },
     "execution_count": 25,
     "metadata": {},
     "output_type": "execute_result"
    }
   ],
   "source": [
    "job_details_table.put_item(\n",
    "    Item=job_details\n",
    ")"
   ]
  },
  {
   "cell_type": "code",
   "execution_count": 26,
   "metadata": {},
   "outputs": [
    {
     "data": {
      "text/plain": [
       "{'Items': [{'job_description': 'Ingest pipeline data to s3',\n",
       "   'is_active': 'Y',\n",
       "   'job_id': 'hfeneldata_ingest'}],\n",
       " 'Count': 1,\n",
       " 'ScannedCount': 1,\n",
       " 'ResponseMetadata': {'RequestId': 'BQQDGUUGLP8RQ9RGHE458A3K0VVV4KQNSO5AEMVJF66Q9ASUAAJG',\n",
       "  'HTTPStatusCode': 200,\n",
       "  'HTTPHeaders': {'server': 'Server',\n",
       "   'date': 'Tue, 24 Jan 2023 08:31:15 GMT',\n",
       "   'content-type': 'application/x-amz-json-1.0',\n",
       "   'content-length': '150',\n",
       "   'connection': 'keep-alive',\n",
       "   'x-amzn-requestid': 'BQQDGUUGLP8RQ9RGHE458A3K0VVV4KQNSO5AEMVJF66Q9ASUAAJG',\n",
       "   'x-amz-crc32': '284400617'},\n",
       "  'RetryAttempts': 0}}"
      ]
     },
     "execution_count": 26,
     "metadata": {},
     "output_type": "execute_result"
    }
   ],
   "source": [
    "job_details_table.scan()"
   ]
  },
  {
   "cell_type": "code",
   "execution_count": 27,
   "metadata": {},
   "outputs": [
    {
     "data": {
      "text/plain": [
       "{'Item': {'job_description': 'Ingest pipeline data to s3',\n",
       "  'is_active': 'Y',\n",
       "  'job_id': 'hfeneldata_ingest'},\n",
       " 'ResponseMetadata': {'RequestId': 'U7D5LGA3PANR52N8G7T162G2ANVV4KQNSO5AEMVJF66Q9ASUAAJG',\n",
       "  'HTTPStatusCode': 200,\n",
       "  'HTTPHeaders': {'server': 'Server',\n",
       "   'date': 'Tue, 24 Jan 2023 08:31:36 GMT',\n",
       "   'content-type': 'application/x-amz-json-1.0',\n",
       "   'content-length': '120',\n",
       "   'connection': 'keep-alive',\n",
       "   'x-amzn-requestid': 'U7D5LGA3PANR52N8G7T162G2ANVV4KQNSO5AEMVJF66Q9ASUAAJG',\n",
       "   'x-amz-crc32': '1143656297'},\n",
       "  'RetryAttempts': 0}}"
      ]
     },
     "execution_count": 27,
     "metadata": {},
     "output_type": "execute_result"
    }
   ],
   "source": [
    "job_details_table.get_item(Key={'job_id':'hfeneldata_ingest'})"
   ]
  },
  {
   "cell_type": "code",
   "execution_count": 28,
   "metadata": {},
   "outputs": [],
   "source": [
    "job_details = {\n",
    "    'job_id': 'hfeneldata_ingest',\n",
    "    'job_description': 'Ingest pipeline data to s3',\n",
    "    'is_active': 'Y',\n",
    "    'baseline_days': 3\n",
    "}"
   ]
  },
  {
   "cell_type": "code",
   "execution_count": 29,
   "metadata": {},
   "outputs": [
    {
     "data": {
      "text/plain": [
       "{'ResponseMetadata': {'RequestId': 'MU6H1S1TPTQ1RNNAJAE6SMIFJFVV4KQNSO5AEMVJF66Q9ASUAAJG',\n",
       "  'HTTPStatusCode': 200,\n",
       "  'HTTPHeaders': {'server': 'Server',\n",
       "   'date': 'Tue, 24 Jan 2023 08:32:01 GMT',\n",
       "   'content-type': 'application/x-amz-json-1.0',\n",
       "   'content-length': '2',\n",
       "   'connection': 'keep-alive',\n",
       "   'x-amzn-requestid': 'MU6H1S1TPTQ1RNNAJAE6SMIFJFVV4KQNSO5AEMVJF66Q9ASUAAJG',\n",
       "   'x-amz-crc32': '2745614147'},\n",
       "  'RetryAttempts': 0}}"
      ]
     },
     "execution_count": 29,
     "metadata": {},
     "output_type": "execute_result"
    }
   ],
   "source": [
    "job_details_table.put_item(\n",
    "    Item=job_details\n",
    ")"
   ]
  },
  {
   "cell_type": "code",
   "execution_count": 30,
   "metadata": {},
   "outputs": [
    {
     "data": {
      "text/plain": [
       "{'Items': [{'job_description': 'Ingest pipeline data to s3',\n",
       "   'is_active': 'Y',\n",
       "   'job_id': 'hfeneldata_ingest',\n",
       "   'baseline_days': Decimal('3')}],\n",
       " 'Count': 1,\n",
       " 'ScannedCount': 1,\n",
       " 'ResponseMetadata': {'RequestId': '7OTE85FRT5TBBFMH15M3Q00O67VV4KQNSO5AEMVJF66Q9ASUAAJG',\n",
       "  'HTTPStatusCode': 200,\n",
       "  'HTTPHeaders': {'server': 'Server',\n",
       "   'date': 'Tue, 24 Jan 2023 08:32:15 GMT',\n",
       "   'content-type': 'application/x-amz-json-1.0',\n",
       "   'content-length': '176',\n",
       "   'connection': 'keep-alive',\n",
       "   'x-amzn-requestid': '7OTE85FRT5TBBFMH15M3Q00O67VV4KQNSO5AEMVJF66Q9ASUAAJG',\n",
       "   'x-amz-crc32': '2566004846'},\n",
       "  'RetryAttempts': 0}}"
      ]
     },
     "execution_count": 30,
     "metadata": {},
     "output_type": "execute_result"
    }
   ],
   "source": [
    "job_details_table.scan()"
   ]
  },
  {
   "cell_type": "code",
   "execution_count": 31,
   "metadata": {},
   "outputs": [
    {
     "data": {
      "text/plain": [
       "{'Item': {'job_description': 'Ingest pipeline data to s3',\n",
       "  'is_active': 'Y',\n",
       "  'job_id': 'hfeneldata_ingest',\n",
       "  'baseline_days': Decimal('3')},\n",
       " 'ResponseMetadata': {'RequestId': '1T28NK17NAIB0P4JDIUUOPR3LVVV4KQNSO5AEMVJF66Q9ASUAAJG',\n",
       "  'HTTPStatusCode': 200,\n",
       "  'HTTPHeaders': {'server': 'Server',\n",
       "   'date': 'Tue, 24 Jan 2023 08:32:23 GMT',\n",
       "   'content-type': 'application/x-amz-json-1.0',\n",
       "   'content-length': '146',\n",
       "   'connection': 'keep-alive',\n",
       "   'x-amzn-requestid': '1T28NK17NAIB0P4JDIUUOPR3LVVV4KQNSO5AEMVJF66Q9ASUAAJG',\n",
       "   'x-amz-crc32': '7494643'},\n",
       "  'RetryAttempts': 0}}"
      ]
     },
     "execution_count": 31,
     "metadata": {},
     "output_type": "execute_result"
    }
   ],
   "source": [
    "job_details_table.get_item(Key={'job_id':'hfeneldata_ingest'})"
   ]
  },
  {
   "cell_type": "code",
   "execution_count": 32,
   "metadata": {},
   "outputs": [
    {
     "data": {
      "text/plain": [
       "{'TableNames': ['job_run_details', 'jobs'],\n",
       " 'ResponseMetadata': {'RequestId': '3CQSUQGF1CUJKH93LVAVHMV1VRVV4KQNSO5AEMVJF66Q9ASUAAJG',\n",
       "  'HTTPStatusCode': 200,\n",
       "  'HTTPHeaders': {'server': 'Server',\n",
       "   'date': 'Tue, 24 Jan 2023 08:32:31 GMT',\n",
       "   'content-type': 'application/x-amz-json-1.0',\n",
       "   'content-length': '41',\n",
       "   'connection': 'keep-alive',\n",
       "   'x-amzn-requestid': '3CQSUQGF1CUJKH93LVAVHMV1VRVV4KQNSO5AEMVJF66Q9ASUAAJG',\n",
       "   'x-amz-crc32': '3073332947'},\n",
       "  'RetryAttempts': 0}}"
      ]
     },
     "execution_count": 32,
     "metadata": {},
     "output_type": "execute_result"
    }
   ],
   "source": [
    "dynamo_client.list_tables()"
   ]
  },
  {
   "cell_type": "code",
   "execution_count": 33,
   "metadata": {},
   "outputs": [
    {
     "data": {
      "text/plain": [
       "{'TableDescription': {'TableName': 'job_run_details',\n",
       "  'TableStatus': 'DELETING',\n",
       "  'ProvisionedThroughput': {'NumberOfDecreasesToday': 0,\n",
       "   'ReadCapacityUnits': 0,\n",
       "   'WriteCapacityUnits': 0},\n",
       "  'TableSizeBytes': 0,\n",
       "  'ItemCount': 0,\n",
       "  'TableArn': 'arn:aws:dynamodb:us-east-1:321886157695:table/job_run_details',\n",
       "  'TableId': '27d08dc7-5407-4359-a84f-e8435aaca948',\n",
       "  'BillingModeSummary': {'BillingMode': 'PAY_PER_REQUEST',\n",
       "   'LastUpdateToPayPerRequestDateTime': datetime.datetime(2023, 1, 24, 1, 22, 58, 347000, tzinfo=tzlocal())}},\n",
       " 'ResponseMetadata': {'RequestId': '0UR937F1B3QQ3V1AOTGL55HBO3VV4KQNSO5AEMVJF66Q9ASUAAJG',\n",
       "  'HTTPStatusCode': 200,\n",
       "  'HTTPHeaders': {'server': 'Server',\n",
       "   'date': 'Tue, 24 Jan 2023 08:32:55 GMT',\n",
       "   'content-type': 'application/x-amz-json-1.0',\n",
       "   'content-length': '564',\n",
       "   'connection': 'keep-alive',\n",
       "   'x-amzn-requestid': '0UR937F1B3QQ3V1AOTGL55HBO3VV4KQNSO5AEMVJF66Q9ASUAAJG',\n",
       "   'x-amz-crc32': '211095471'},\n",
       "  'RetryAttempts': 0}}"
      ]
     },
     "execution_count": 33,
     "metadata": {},
     "output_type": "execute_result"
    }
   ],
   "source": [
    "dynamo_client.delete_table(TableName='job_run_details')"
   ]
  },
  {
   "cell_type": "code",
   "execution_count": 44,
   "metadata": {},
   "outputs": [],
   "source": [
    "if 'job_run_details' not in tables:\n",
    "    response = dynamo_client.create_table(\n",
    "        AttributeDefinitions=[\n",
    "            {\n",
    "                'AttributeName': 'job_id',\n",
    "                'AttributeType': 'S'\n",
    "            },\n",
    "            {\n",
    "                'AttributeName': 'job_run_time',\n",
    "                'AttributeType': 'N'\n",
    "            }\n",
    "        ],\n",
    "        TableName='job_run_details',\n",
    "        KeySchema=[\n",
    "            {\n",
    "                'AttributeName': 'job_id',\n",
    "                'KeyType': 'HASH'\n",
    "            },\n",
    "            {\n",
    "                'AttributeName': 'job_run_time',\n",
    "                'KeyType': 'RANGE'\n",
    "            },\n",
    "        ],\n",
    "        BillingMode='PAY_PER_REQUEST'\n",
    "    )\n",
    "    print(response)"
   ]
  },
  {
   "cell_type": "code",
   "execution_count": 45,
   "metadata": {},
   "outputs": [
    {
     "data": {
      "text/plain": [
       "{'TableNames': ['jobs'],\n",
       " 'ResponseMetadata': {'RequestId': 'IAB0R4CNUEPJUJS0N9P24SCBPVVV4KQNSO5AEMVJF66Q9ASUAAJG',\n",
       "  'HTTPStatusCode': 200,\n",
       "  'HTTPHeaders': {'server': 'Server',\n",
       "   'date': 'Tue, 24 Jan 2023 08:37:46 GMT',\n",
       "   'content-type': 'application/x-amz-json-1.0',\n",
       "   'content-length': '23',\n",
       "   'connection': 'keep-alive',\n",
       "   'x-amzn-requestid': 'IAB0R4CNUEPJUJS0N9P24SCBPVVV4KQNSO5AEMVJF66Q9ASUAAJG',\n",
       "   'x-amz-crc32': '312962171'},\n",
       "  'RetryAttempts': 0}}"
      ]
     },
     "execution_count": 45,
     "metadata": {},
     "output_type": "execute_result"
    }
   ],
   "source": [
    "dynamo_client.list_tables()"
   ]
  },
  {
   "cell_type": "code",
   "execution_count": 46,
   "metadata": {},
   "outputs": [],
   "source": [
    "dynamodb_resource = boto3.resource('dynamodb')"
   ]
  },
  {
   "cell_type": "code",
   "execution_count": 47,
   "metadata": {},
   "outputs": [],
   "source": [
    "job_details_table = dynamodb_resource.Table('job_run_details')"
   ]
  },
  {
   "cell_type": "code",
   "execution_count": 48,
   "metadata": {},
   "outputs": [],
   "source": [
    "import time\n",
    "import datetime"
   ]
  },
  {
   "cell_type": "code",
   "execution_count": 49,
   "metadata": {},
   "outputs": [],
   "source": [
    "jrd_item = {\n",
    "    'job_id': 'hfeneldata_ingest',\n",
    "    'job_run_time': int(time.mktime(datetime.datetime.now().timetuple())),\n",
    "    'job_run_bookmark_details':{\n",
    "        'processed_file_name': '2023-01-24-0.json.gz'\n",
    "    }\n",
    "}"
   ]
  },
  {
   "cell_type": "code",
   "execution_count": 50,
   "metadata": {},
   "outputs": [
    {
     "data": {
      "text/plain": [
       "{'job_id': 'hfeneldata_ingest',\n",
       " 'job_run_time': 1674549508,\n",
       " 'job_run_bookmark_details': {'processed_file_name': '2023-01-24-0.json.gz'}}"
      ]
     },
     "execution_count": 50,
     "metadata": {},
     "output_type": "execute_result"
    }
   ],
   "source": [
    "jrd_item"
   ]
  },
  {
   "cell_type": "code",
   "execution_count": null,
   "metadata": {},
   "outputs": [],
   "source": [
    "job_details_table.put_item(\n",
    "    Item=jrd_item\n",
    ")"
   ]
  },
  {
   "cell_type": "code",
   "execution_count": null,
   "metadata": {},
   "outputs": [],
   "source": [
    "job_details_table.scan()"
   ]
  },
  {
   "cell_type": "code",
   "execution_count": 52,
   "metadata": {},
   "outputs": [],
   "source": [
    "def get_job_details(job_name):\n",
    "    dynamodb_res = boto3.resource('dynamodb')\n",
    "    table = dynamodb_res.Table('jobs')\n",
    "    job_details_all = table.get_item(Key={'job_id': job_name})['Item']\n",
    "    return job_details_all"
   ]
  },
  {
   "cell_type": "code",
   "execution_count": 53,
   "metadata": {},
   "outputs": [
    {
     "data": {
      "text/plain": [
       "{'job_description': 'Ingest pipeline data to s3',\n",
       " 'is_active': 'Y',\n",
       " 'job_id': 'hfeneldata_ingest',\n",
       " 'baseline_days': Decimal('3')}"
      ]
     },
     "execution_count": 53,
     "metadata": {},
     "output_type": "execute_result"
    }
   ],
   "source": [
    "job_details_all = get_job_details('hfeneldata_ingest')\n",
    "job_details_all"
   ]
  },
  {
   "cell_type": "code",
   "execution_count": 48,
   "metadata": {},
   "outputs": [],
   "source": [
    "from datetime import datetime as dt"
   ]
  },
  {
   "cell_type": "code",
   "execution_count": 49,
   "metadata": {},
   "outputs": [],
   "source": [
    "from datetime import timedelta as td"
   ]
  },
  {
   "cell_type": "code",
   "execution_count": 50,
   "metadata": {},
   "outputs": [
    {
     "data": {
      "text/plain": [
       "datetime.date(2023, 1, 24)"
      ]
     },
     "execution_count": 50,
     "metadata": {},
     "output_type": "execute_result"
    }
   ],
   "source": [
    "dt.now().date()"
   ]
  },
  {
   "cell_type": "code",
   "execution_count": 51,
   "metadata": {},
   "outputs": [
    {
     "data": {
      "text/plain": [
       "datetime.date(2023, 1, 21)"
      ]
     },
     "execution_count": 51,
     "metadata": {},
     "output_type": "execute_result"
    }
   ],
   "source": [
    "dt.now().date() - td(days=3)"
   ]
  },
  {
   "cell_type": "code",
   "execution_count": 52,
   "metadata": {},
   "outputs": [
    {
     "data": {
      "text/plain": [
       "'2023-01-21-0.json.gz'"
      ]
     },
     "execution_count": 52,
     "metadata": {},
     "output_type": "execute_result"
    }
   ],
   "source": [
    "f'{dt.strftime(dt.now().date() - td(days=3), \"%Y-%m-%d\")}-0.json.gz'"
   ]
  },
  {
   "cell_type": "code",
   "execution_count": 53,
   "metadata": {},
   "outputs": [],
   "source": [
    "next_file = f'{dt.strftime(dt.now().date() - td(days=3), \"%Y-%m-%d\")}-0.json.gz'"
   ]
  },
  {
   "cell_type": "code",
   "execution_count": 54,
   "metadata": {},
   "outputs": [],
   "source": [
    "import requests"
   ]
  },
  {
   "cell_type": "code",
   "execution_count": 64,
   "metadata": {},
   "outputs": [],
   "source": [
    "res = requests.get(f'https://data.gharchive.org/{next_file}')"
   ]
  },
  {
   "cell_type": "code",
   "execution_count": 65,
   "metadata": {},
   "outputs": [],
   "source": [
    "file = open(f'data/{next_file}', 'wb')"
   ]
  },
  {
   "cell_type": "code",
   "execution_count": 66,
   "metadata": {},
   "outputs": [
    {
     "data": {
      "text/plain": [
       "59686777"
      ]
     },
     "execution_count": 66,
     "metadata": {},
     "output_type": "execute_result"
    }
   ],
   "source": [
    "file.write(res.content)"
   ]
  },
  {
   "cell_type": "code",
   "execution_count": 67,
   "metadata": {},
   "outputs": [],
   "source": [
    "file.close()"
   ]
  },
  {
   "cell_type": "code",
   "execution_count": 69,
   "metadata": {},
   "outputs": [
    {
     "name": "stdout",
     "output_type": "stream",
     "text": [
      "total 237628\n",
      "-rw-r--r-- 1 hfenelsoftllc hfenelsoftllc  62945212 Oct 28 01:05 2022-10-28-1.json.gz\n",
      "-rw-r--r-- 1 hfenelsoftllc hfenelsoftllc  59686777 Jan 24 02:39 2023-01-21-0.json.gz\n",
      "-rw-r--r-- 1 hfenelsoftllc hfenelsoftllc 120688799 Jan 24 02:39 2023-01-24-1.json.gz\n"
     ]
    }
   ],
   "source": [
    "!ls -lrt data/"
   ]
  },
  {
   "cell_type": "code",
   "execution_count": 70,
   "metadata": {},
   "outputs": [],
   "source": [
    "import pandas as pd"
   ]
  },
  {
   "cell_type": "code",
   "execution_count": 71,
   "metadata": {},
   "outputs": [],
   "source": [
    "df = pd.read_json(\n",
    "    f'data/{next_file}',\n",
    "    lines=True,\n",
    "    orient='records'\n",
    ")"
   ]
  },
  {
   "cell_type": "code",
   "execution_count": 72,
   "metadata": {},
   "outputs": [
    {
     "data": {
      "text/html": [
       "<div>\n",
       "<style scoped>\n",
       "    .dataframe tbody tr th:only-of-type {\n",
       "        vertical-align: middle;\n",
       "    }\n",
       "\n",
       "    .dataframe tbody tr th {\n",
       "        vertical-align: top;\n",
       "    }\n",
       "\n",
       "    .dataframe thead th {\n",
       "        text-align: right;\n",
       "    }\n",
       "</style>\n",
       "<table border=\"1\" class=\"dataframe\">\n",
       "  <thead>\n",
       "    <tr style=\"text-align: right;\">\n",
       "      <th></th>\n",
       "      <th>id</th>\n",
       "      <th>type</th>\n",
       "      <th>actor</th>\n",
       "      <th>repo</th>\n",
       "      <th>payload</th>\n",
       "      <th>public</th>\n",
       "      <th>created_at</th>\n",
       "      <th>org</th>\n",
       "    </tr>\n",
       "  </thead>\n",
       "  <tbody>\n",
       "    <tr>\n",
       "      <th>0</th>\n",
       "      <td>26568927811</td>\n",
       "      <td>PushEvent</td>\n",
       "      <td>{'id': 118839691, 'login': 'jaeseong0438', 'di...</td>\n",
       "      <td>{'id': 591219279, 'name': 'jaeseong0438/data_N...</td>\n",
       "      <td>{'push_id': 12355432955, 'size': 1, 'distinct_...</td>\n",
       "      <td>True</td>\n",
       "      <td>2023-01-21 00:00:00+00:00</td>\n",
       "      <td>NaN</td>\n",
       "    </tr>\n",
       "    <tr>\n",
       "      <th>1</th>\n",
       "      <td>26568927812</td>\n",
       "      <td>PullRequestEvent</td>\n",
       "      <td>{'id': 60792108, 'login': 'Elijahrane', 'displ...</td>\n",
       "      <td>{'id': 454301866, 'name': 'Nyanotrasen/Nyanotr...</td>\n",
       "      <td>{'action': 'opened', 'number': 1056, 'pull_req...</td>\n",
       "      <td>True</td>\n",
       "      <td>2023-01-21 00:00:00+00:00</td>\n",
       "      <td>{'id': 96618363, 'login': 'Nyanotrasen', 'grav...</td>\n",
       "    </tr>\n",
       "    <tr>\n",
       "      <th>2</th>\n",
       "      <td>26568927813</td>\n",
       "      <td>PushEvent</td>\n",
       "      <td>{'id': 13511442, 'login': 'chenyk1990', 'displ...</td>\n",
       "      <td>{'id': 521072894, 'name': 'chenyk1990/MATseisd...</td>\n",
       "      <td>{'push_id': 12355432950, 'size': 1, 'distinct_...</td>\n",
       "      <td>True</td>\n",
       "      <td>2023-01-21 00:00:00+00:00</td>\n",
       "      <td>NaN</td>\n",
       "    </tr>\n",
       "    <tr>\n",
       "      <th>3</th>\n",
       "      <td>26568927817</td>\n",
       "      <td>PushEvent</td>\n",
       "      <td>{'id': 50673670, 'login': 'mend-for-github-com...</td>\n",
       "      <td>{'id': 516475850, 'name': 'samqws-test/front-e...</td>\n",
       "      <td>{'push_id': 12355432959, 'size': 1, 'distinct_...</td>\n",
       "      <td>True</td>\n",
       "      <td>2023-01-21 00:00:00+00:00</td>\n",
       "      <td>{'id': 109754844, 'login': 'samqws-test', 'gra...</td>\n",
       "    </tr>\n",
       "    <tr>\n",
       "      <th>4</th>\n",
       "      <td>26568927825</td>\n",
       "      <td>PushEvent</td>\n",
       "      <td>{'id': 41898282, 'login': 'github-actions[bot]...</td>\n",
       "      <td>{'id': 586746896, 'name': 'gvaldzxxxx/comit', ...</td>\n",
       "      <td>{'push_id': 12355432965, 'size': 1, 'distinct_...</td>\n",
       "      <td>True</td>\n",
       "      <td>2023-01-21 00:00:00+00:00</td>\n",
       "      <td>NaN</td>\n",
       "    </tr>\n",
       "    <tr>\n",
       "      <th>...</th>\n",
       "      <td>...</td>\n",
       "      <td>...</td>\n",
       "      <td>...</td>\n",
       "      <td>...</td>\n",
       "      <td>...</td>\n",
       "      <td>...</td>\n",
       "      <td>...</td>\n",
       "      <td>...</td>\n",
       "    </tr>\n",
       "    <tr>\n",
       "      <th>132452</th>\n",
       "      <td>26569413445</td>\n",
       "      <td>PushEvent</td>\n",
       "      <td>{'id': 41898282, 'login': 'github-actions[bot]...</td>\n",
       "      <td>{'id': 588465349, 'name': 'wazsky/GoGreen', 'u...</td>\n",
       "      <td>{'push_id': 12355711313, 'size': 1, 'distinct_...</td>\n",
       "      <td>True</td>\n",
       "      <td>2023-01-21 00:59:59+00:00</td>\n",
       "      <td>NaN</td>\n",
       "    </tr>\n",
       "    <tr>\n",
       "      <th>132453</th>\n",
       "      <td>26569413446</td>\n",
       "      <td>PushEvent</td>\n",
       "      <td>{'id': 41898282, 'login': 'github-actions[bot]...</td>\n",
       "      <td>{'id': 527203310, 'name': 'alisson-rp/alisson-...</td>\n",
       "      <td>{'push_id': 12355711301, 'size': 1, 'distinct_...</td>\n",
       "      <td>True</td>\n",
       "      <td>2023-01-21 00:59:59+00:00</td>\n",
       "      <td>NaN</td>\n",
       "    </tr>\n",
       "    <tr>\n",
       "      <th>132454</th>\n",
       "      <td>26569413451</td>\n",
       "      <td>PushEvent</td>\n",
       "      <td>{'id': 76611652, 'login': 'BoingooTV', 'displa...</td>\n",
       "      <td>{'id': 537353320, 'name': 'BoingooTV/boingootv...</td>\n",
       "      <td>{'push_id': 12355711290, 'size': 1, 'distinct_...</td>\n",
       "      <td>True</td>\n",
       "      <td>2023-01-21 00:59:59+00:00</td>\n",
       "      <td>NaN</td>\n",
       "    </tr>\n",
       "    <tr>\n",
       "      <th>132455</th>\n",
       "      <td>26569413454</td>\n",
       "      <td>PushEvent</td>\n",
       "      <td>{'id': 80362911, 'login': 'everyday-cc', 'disp...</td>\n",
       "      <td>{'id': 346157631, 'name': 'everyday-cc/powerap...</td>\n",
       "      <td>{'push_id': 12355711311, 'size': 1, 'distinct_...</td>\n",
       "      <td>True</td>\n",
       "      <td>2023-01-21 00:59:59+00:00</td>\n",
       "      <td>NaN</td>\n",
       "    </tr>\n",
       "    <tr>\n",
       "      <th>132456</th>\n",
       "      <td>26569413456</td>\n",
       "      <td>CreateEvent</td>\n",
       "      <td>{'id': 103971335, 'login': 'MikeAtwood', 'disp...</td>\n",
       "      <td>{'id': 591114671, 'name': 'asundquistdavis/Civ...</td>\n",
       "      <td>{'ref': 'feature/frontend-setup', 'ref_type': ...</td>\n",
       "      <td>True</td>\n",
       "      <td>2023-01-21 00:59:59+00:00</td>\n",
       "      <td>NaN</td>\n",
       "    </tr>\n",
       "  </tbody>\n",
       "</table>\n",
       "<p>132457 rows × 8 columns</p>\n",
       "</div>"
      ],
      "text/plain": [
       "                 id              type  \\\n",
       "0       26568927811         PushEvent   \n",
       "1       26568927812  PullRequestEvent   \n",
       "2       26568927813         PushEvent   \n",
       "3       26568927817         PushEvent   \n",
       "4       26568927825         PushEvent   \n",
       "...             ...               ...   \n",
       "132452  26569413445         PushEvent   \n",
       "132453  26569413446         PushEvent   \n",
       "132454  26569413451         PushEvent   \n",
       "132455  26569413454         PushEvent   \n",
       "132456  26569413456       CreateEvent   \n",
       "\n",
       "                                                    actor  \\\n",
       "0       {'id': 118839691, 'login': 'jaeseong0438', 'di...   \n",
       "1       {'id': 60792108, 'login': 'Elijahrane', 'displ...   \n",
       "2       {'id': 13511442, 'login': 'chenyk1990', 'displ...   \n",
       "3       {'id': 50673670, 'login': 'mend-for-github-com...   \n",
       "4       {'id': 41898282, 'login': 'github-actions[bot]...   \n",
       "...                                                   ...   \n",
       "132452  {'id': 41898282, 'login': 'github-actions[bot]...   \n",
       "132453  {'id': 41898282, 'login': 'github-actions[bot]...   \n",
       "132454  {'id': 76611652, 'login': 'BoingooTV', 'displa...   \n",
       "132455  {'id': 80362911, 'login': 'everyday-cc', 'disp...   \n",
       "132456  {'id': 103971335, 'login': 'MikeAtwood', 'disp...   \n",
       "\n",
       "                                                     repo  \\\n",
       "0       {'id': 591219279, 'name': 'jaeseong0438/data_N...   \n",
       "1       {'id': 454301866, 'name': 'Nyanotrasen/Nyanotr...   \n",
       "2       {'id': 521072894, 'name': 'chenyk1990/MATseisd...   \n",
       "3       {'id': 516475850, 'name': 'samqws-test/front-e...   \n",
       "4       {'id': 586746896, 'name': 'gvaldzxxxx/comit', ...   \n",
       "...                                                   ...   \n",
       "132452  {'id': 588465349, 'name': 'wazsky/GoGreen', 'u...   \n",
       "132453  {'id': 527203310, 'name': 'alisson-rp/alisson-...   \n",
       "132454  {'id': 537353320, 'name': 'BoingooTV/boingootv...   \n",
       "132455  {'id': 346157631, 'name': 'everyday-cc/powerap...   \n",
       "132456  {'id': 591114671, 'name': 'asundquistdavis/Civ...   \n",
       "\n",
       "                                                  payload  public  \\\n",
       "0       {'push_id': 12355432955, 'size': 1, 'distinct_...    True   \n",
       "1       {'action': 'opened', 'number': 1056, 'pull_req...    True   \n",
       "2       {'push_id': 12355432950, 'size': 1, 'distinct_...    True   \n",
       "3       {'push_id': 12355432959, 'size': 1, 'distinct_...    True   \n",
       "4       {'push_id': 12355432965, 'size': 1, 'distinct_...    True   \n",
       "...                                                   ...     ...   \n",
       "132452  {'push_id': 12355711313, 'size': 1, 'distinct_...    True   \n",
       "132453  {'push_id': 12355711301, 'size': 1, 'distinct_...    True   \n",
       "132454  {'push_id': 12355711290, 'size': 1, 'distinct_...    True   \n",
       "132455  {'push_id': 12355711311, 'size': 1, 'distinct_...    True   \n",
       "132456  {'ref': 'feature/frontend-setup', 'ref_type': ...    True   \n",
       "\n",
       "                      created_at  \\\n",
       "0      2023-01-21 00:00:00+00:00   \n",
       "1      2023-01-21 00:00:00+00:00   \n",
       "2      2023-01-21 00:00:00+00:00   \n",
       "3      2023-01-21 00:00:00+00:00   \n",
       "4      2023-01-21 00:00:00+00:00   \n",
       "...                          ...   \n",
       "132452 2023-01-21 00:59:59+00:00   \n",
       "132453 2023-01-21 00:59:59+00:00   \n",
       "132454 2023-01-21 00:59:59+00:00   \n",
       "132455 2023-01-21 00:59:59+00:00   \n",
       "132456 2023-01-21 00:59:59+00:00   \n",
       "\n",
       "                                                      org  \n",
       "0                                                     NaN  \n",
       "1       {'id': 96618363, 'login': 'Nyanotrasen', 'grav...  \n",
       "2                                                     NaN  \n",
       "3       {'id': 109754844, 'login': 'samqws-test', 'gra...  \n",
       "4                                                     NaN  \n",
       "...                                                   ...  \n",
       "132452                                                NaN  \n",
       "132453                                                NaN  \n",
       "132454                                                NaN  \n",
       "132455                                                NaN  \n",
       "132456                                                NaN  \n",
       "\n",
       "[132457 rows x 8 columns]"
      ]
     },
     "execution_count": 72,
     "metadata": {},
     "output_type": "execute_result"
    }
   ],
   "source": [
    "df"
   ]
  },
  {
   "cell_type": "code",
   "execution_count": 73,
   "metadata": {},
   "outputs": [
    {
     "data": {
      "text/plain": [
       "id            132457\n",
       "type          132457\n",
       "actor         132457\n",
       "repo          132457\n",
       "payload       132457\n",
       "public        132457\n",
       "created_at    132457\n",
       "org            35376\n",
       "dtype: int64"
      ]
     },
     "execution_count": 73,
     "metadata": {},
     "output_type": "execute_result"
    }
   ],
   "source": [
    "df.count()"
   ]
  },
  {
   "cell_type": "code",
   "execution_count": 74,
   "metadata": {},
   "outputs": [
    {
     "data": {
      "text/plain": [
       "Index(['id', 'type', 'actor', 'repo', 'payload', 'public', 'created_at',\n",
       "       'org'],\n",
       "      dtype='object')"
      ]
     },
     "execution_count": 74,
     "metadata": {},
     "output_type": "execute_result"
    }
   ],
   "source": [
    "df.columns"
   ]
  },
  {
   "cell_type": "code",
   "execution_count": 54,
   "metadata": {},
   "outputs": [
    {
     "data": {
      "text/plain": [
       "{'job_description': 'Ingest pipeline data to s3',\n",
       " 'is_active': 'Y',\n",
       " 'job_id': 'hfeneldata_ingest',\n",
       " 'baseline_days': Decimal('3')}"
      ]
     },
     "execution_count": 54,
     "metadata": {},
     "output_type": "execute_result"
    }
   ],
   "source": [
    "job_details_all = get_job_details('hfeneldata_ingest')\n",
    "job_details_all"
   ]
  },
  {
   "cell_type": "code",
   "execution_count": 55,
   "metadata": {},
   "outputs": [
    {
     "data": {
      "text/plain": [
       "Decimal('3')"
      ]
     },
     "execution_count": 55,
     "metadata": {},
     "output_type": "execute_result"
    }
   ],
   "source": [
    "baseline_days = job_details_all['baseline_days']\n",
    "baseline_days"
   ]
  },
  {
   "cell_type": "code",
   "execution_count": 57,
   "metadata": {},
   "outputs": [],
   "source": [
    "from datetime import datetime as dt\n",
    "from datetime import timedelta as td"
   ]
  },
  {
   "cell_type": "code",
   "execution_count": 58,
   "metadata": {},
   "outputs": [
    {
     "data": {
      "text/plain": [
       "'2023-01-21-0.json.gz'"
      ]
     },
     "execution_count": 58,
     "metadata": {},
     "output_type": "execute_result"
    }
   ],
   "source": [
    "f'{dt.strftime(dt.now().date() - td(days=3), \"%Y-%m-%d\")}-0.json.gz'"
   ]
  },
  {
   "cell_type": "code",
   "execution_count": 59,
   "metadata": {},
   "outputs": [],
   "source": [
    "start_file = f'{dt.strftime(dt.now().date() - td(days=3), \"%Y-%m-%d\")}-0.json.gz'"
   ]
  },
  {
   "cell_type": "code",
   "execution_count": 60,
   "metadata": {},
   "outputs": [
    {
     "data": {
      "text/plain": [
       "'2023-01-21-0.json.gz'"
      ]
     },
     "execution_count": 60,
     "metadata": {},
     "output_type": "execute_result"
    }
   ],
   "source": [
    "start_file"
   ]
  },
  {
   "cell_type": "code",
   "execution_count": 61,
   "metadata": {},
   "outputs": [],
   "source": [
    "job_details = {\n",
    "    'job_id': 'hfeneldata_ingest',\n",
    "    'job_description': 'Ingest pipeline data to s3',\n",
    "    'is_active': 'Y',\n",
    "    'baseline_days': 3,\n",
    "    'job_run_bookmark_details': {\n",
    "        'last_run_file_name': start_file\n",
    "    }\n",
    "}"
   ]
  },
  {
   "cell_type": "code",
   "execution_count": 62,
   "metadata": {},
   "outputs": [],
   "source": [
    "dynamodb = boto3.resource('dynamodb')"
   ]
  },
  {
   "cell_type": "code",
   "execution_count": 63,
   "metadata": {},
   "outputs": [],
   "source": [
    "table = dynamodb.Table('jobs')"
   ]
  },
  {
   "cell_type": "code",
   "execution_count": 64,
   "metadata": {},
   "outputs": [
    {
     "data": {
      "text/plain": [
       "{'ResponseMetadata': {'RequestId': 'MUJTVV4VEVA63ALB3FDP7P3OQBVV4KQNSO5AEMVJF66Q9ASUAAJG',\n",
       "  'HTTPStatusCode': 200,\n",
       "  'HTTPHeaders': {'server': 'Server',\n",
       "   'date': 'Tue, 24 Jan 2023 08:53:08 GMT',\n",
       "   'content-type': 'application/x-amz-json-1.0',\n",
       "   'content-length': '2',\n",
       "   'connection': 'keep-alive',\n",
       "   'x-amzn-requestid': 'MUJTVV4VEVA63ALB3FDP7P3OQBVV4KQNSO5AEMVJF66Q9ASUAAJG',\n",
       "   'x-amz-crc32': '2745614147'},\n",
       "  'RetryAttempts': 0}}"
      ]
     },
     "execution_count": 64,
     "metadata": {},
     "output_type": "execute_result"
    }
   ],
   "source": [
    "table.put_item(Item=job_details)"
   ]
  },
  {
   "cell_type": "code",
   "execution_count": 65,
   "metadata": {},
   "outputs": [
    {
     "data": {
      "text/plain": [
       "{'Item': {'job_description': 'Ingest pipeline data to s3',\n",
       "  'is_active': 'Y',\n",
       "  'job_id': 'hfeneldata_ingest',\n",
       "  'baseline_days': Decimal('3'),\n",
       "  'job_run_bookmark_details': {'last_run_file_name': '2023-01-21-0.json.gz'}},\n",
       " 'ResponseMetadata': {'RequestId': '9OTBOM69AAU9NGVTP0307B2J6BVV4KQNSO5AEMVJF66Q9ASUAAJG',\n",
       "  'HTTPStatusCode': 200,\n",
       "  'HTTPHeaders': {'server': 'Server',\n",
       "   'date': 'Tue, 24 Jan 2023 08:55:37 GMT',\n",
       "   'content-type': 'application/x-amz-json-1.0',\n",
       "   'content-length': '231',\n",
       "   'connection': 'keep-alive',\n",
       "   'x-amzn-requestid': '9OTBOM69AAU9NGVTP0307B2J6BVV4KQNSO5AEMVJF66Q9ASUAAJG',\n",
       "   'x-amz-crc32': '2629494488'},\n",
       "  'RetryAttempts': 0}}"
      ]
     },
     "execution_count": 65,
     "metadata": {},
     "output_type": "execute_result"
    }
   ],
   "source": [
    "table.get_item(Key={'job_id': 'hfeneldata_ingest'})"
   ]
  },
  {
   "cell_type": "code",
   "execution_count": 67,
   "metadata": {},
   "outputs": [],
   "source": [
    "job_run_bookmark_details = table.get_item(Key={'job_id': 'hfeneldata_ingest'})['Item']['job_run_bookmark_details']"
   ]
  },
  {
   "cell_type": "code",
   "execution_count": 68,
   "metadata": {},
   "outputs": [
    {
     "data": {
      "text/plain": [
       "{'last_run_file_name': '2023-01-21-0.json.gz'}"
      ]
     },
     "execution_count": 68,
     "metadata": {},
     "output_type": "execute_result"
    }
   ],
   "source": [
    "job_run_bookmark_details"
   ]
  },
  {
   "cell_type": "code",
   "execution_count": 71,
   "metadata": {},
   "outputs": [],
   "source": [
    "dt_part = job_run_bookmark_details['last_run_file_name'].split('.')[0]"
   ]
  },
  {
   "cell_type": "code",
   "execution_count": 72,
   "metadata": {},
   "outputs": [
    {
     "data": {
      "text/plain": [
       "'2023-01-21-0'"
      ]
     },
     "execution_count": 72,
     "metadata": {},
     "output_type": "execute_result"
    }
   ],
   "source": [
    "dt_part"
   ]
  },
  {
   "cell_type": "code",
   "execution_count": 75,
   "metadata": {},
   "outputs": [],
   "source": [
    "next_file = f'{dt.strftime(dt.strptime(dt_part, \"%Y-%m-%d-%H\") + td(hours=1), \"%Y-%m-%d-%-H\")}.json.gz'"
   ]
  },
  {
   "cell_type": "code",
   "execution_count": 76,
   "metadata": {},
   "outputs": [
    {
     "data": {
      "text/plain": [
       "'2023-01-21-1.json.gz'"
      ]
     },
     "execution_count": 76,
     "metadata": {},
     "output_type": "execute_result"
    }
   ],
   "source": [
    "next_file"
   ]
  },
  {
   "cell_type": "code",
   "execution_count": 77,
   "metadata": {},
   "outputs": [],
   "source": [
    "import requests"
   ]
  },
  {
   "cell_type": "code",
   "execution_count": 78,
   "metadata": {},
   "outputs": [],
   "source": [
    "res = requests.get(f'https://data.gharchive.org/{next_file}')\n",
    "file = open(f'data/{next_file}', 'wb')"
   ]
  },
  {
   "cell_type": "code",
   "execution_count": 79,
   "metadata": {},
   "outputs": [
    {
     "data": {
      "text/plain": [
       "49604764"
      ]
     },
     "execution_count": 79,
     "metadata": {},
     "output_type": "execute_result"
    }
   ],
   "source": [
    "file.write(res.content)"
   ]
  },
  {
   "cell_type": "code",
   "execution_count": 80,
   "metadata": {},
   "outputs": [],
   "source": [
    "file.close()"
   ]
  },
  {
   "cell_type": "code",
   "execution_count": 81,
   "metadata": {},
   "outputs": [
    {
     "name": "stdout",
     "output_type": "stream",
     "text": [
      "total 286080\n",
      "-rw-r--r-- 1 hfenelsoftllc hfenelsoftllc  62945212 Oct 28 01:05 2022-10-28-1.json.gz\n",
      "-rw-r--r-- 1 hfenelsoftllc hfenelsoftllc  59686777 Jan 24 02:39 2023-01-21-0.json.gz\n",
      "-rw-r--r-- 1 hfenelsoftllc hfenelsoftllc 120688799 Jan 24 02:39 2023-01-24-1.json.gz\n",
      "-rw-r--r-- 1 hfenelsoftllc hfenelsoftllc  49604764 Jan 24 04:11 2023-01-21-1.json.gz\n"
     ]
    }
   ],
   "source": [
    "! ls -lrt data/"
   ]
  },
  {
   "cell_type": "code",
   "execution_count": 82,
   "metadata": {},
   "outputs": [],
   "source": [
    "import pandas as pd"
   ]
  },
  {
   "cell_type": "code",
   "execution_count": 83,
   "metadata": {},
   "outputs": [],
   "source": [
    "df = pd.read_json(\n",
    "    f'data/{next_file}',\n",
    "    lines=True,\n",
    "    orient='records'\n",
    ")"
   ]
  },
  {
   "cell_type": "code",
   "execution_count": 84,
   "metadata": {},
   "outputs": [
    {
     "data": {
      "text/html": [
       "<div>\n",
       "<style scoped>\n",
       "    .dataframe tbody tr th:only-of-type {\n",
       "        vertical-align: middle;\n",
       "    }\n",
       "\n",
       "    .dataframe tbody tr th {\n",
       "        vertical-align: top;\n",
       "    }\n",
       "\n",
       "    .dataframe thead th {\n",
       "        text-align: right;\n",
       "    }\n",
       "</style>\n",
       "<table border=\"1\" class=\"dataframe\">\n",
       "  <thead>\n",
       "    <tr style=\"text-align: right;\">\n",
       "      <th></th>\n",
       "      <th>id</th>\n",
       "      <th>type</th>\n",
       "      <th>actor</th>\n",
       "      <th>repo</th>\n",
       "      <th>payload</th>\n",
       "      <th>public</th>\n",
       "      <th>created_at</th>\n",
       "      <th>org</th>\n",
       "    </tr>\n",
       "  </thead>\n",
       "  <tbody>\n",
       "    <tr>\n",
       "      <th>0</th>\n",
       "      <td>26569413474</td>\n",
       "      <td>DeleteEvent</td>\n",
       "      <td>{'id': 111725661, 'login': 'miin-jae-Kim', 'di...</td>\n",
       "      <td>{'id': 587736387, 'name': 'miin-jae-Kim/downta...</td>\n",
       "      <td>{'ref': 'user_table', 'ref_type': 'branch', 'p...</td>\n",
       "      <td>True</td>\n",
       "      <td>2023-01-21 01:00:00+00:00</td>\n",
       "      <td>NaN</td>\n",
       "    </tr>\n",
       "    <tr>\n",
       "      <th>1</th>\n",
       "      <td>26569413478</td>\n",
       "      <td>PushEvent</td>\n",
       "      <td>{'id': 99461341, 'login': 'uddpmibojonegoro', ...</td>\n",
       "      <td>{'id': 458041495, 'name': 'uddpmibojonegoro/bl...</td>\n",
       "      <td>{'push_id': 12355711323, 'size': 1, 'distinct_...</td>\n",
       "      <td>True</td>\n",
       "      <td>2023-01-21 01:00:00+00:00</td>\n",
       "      <td>NaN</td>\n",
       "    </tr>\n",
       "    <tr>\n",
       "      <th>2</th>\n",
       "      <td>26569413479</td>\n",
       "      <td>PushEvent</td>\n",
       "      <td>{'id': 41898282, 'login': 'github-actions[bot]...</td>\n",
       "      <td>{'id': 528150168, 'name': 'AleksandrPav/cards'...</td>\n",
       "      <td>{'push_id': 12355711317, 'size': 1, 'distinct_...</td>\n",
       "      <td>True</td>\n",
       "      <td>2023-01-21 01:00:00+00:00</td>\n",
       "      <td>NaN</td>\n",
       "    </tr>\n",
       "    <tr>\n",
       "      <th>3</th>\n",
       "      <td>26569413482</td>\n",
       "      <td>PushEvent</td>\n",
       "      <td>{'id': 41898282, 'login': 'github-actions[bot]...</td>\n",
       "      <td>{'id': 580919687, 'name': 'wyo881mh/Green', 'u...</td>\n",
       "      <td>{'push_id': 12355711322, 'size': 1, 'distinct_...</td>\n",
       "      <td>True</td>\n",
       "      <td>2023-01-21 01:00:00+00:00</td>\n",
       "      <td>NaN</td>\n",
       "    </tr>\n",
       "    <tr>\n",
       "      <th>4</th>\n",
       "      <td>26569413484</td>\n",
       "      <td>PushEvent</td>\n",
       "      <td>{'id': 8517910, 'login': 'LombiqBot', 'display...</td>\n",
       "      <td>{'id': 410004154, 'name': 'Lombiq/TheBootstrap...</td>\n",
       "      <td>{'push_id': 12355711318, 'size': 0, 'distinct_...</td>\n",
       "      <td>True</td>\n",
       "      <td>2023-01-21 01:00:00+00:00</td>\n",
       "      <td>{'id': 8158177, 'login': 'Lombiq', 'gravatar_i...</td>\n",
       "    </tr>\n",
       "    <tr>\n",
       "      <th>...</th>\n",
       "      <td>...</td>\n",
       "      <td>...</td>\n",
       "      <td>...</td>\n",
       "      <td>...</td>\n",
       "      <td>...</td>\n",
       "      <td>...</td>\n",
       "      <td>...</td>\n",
       "      <td>...</td>\n",
       "    </tr>\n",
       "    <tr>\n",
       "      <th>118426</th>\n",
       "      <td>26569793632</td>\n",
       "      <td>PullRequestEvent</td>\n",
       "      <td>{'id': 114129384, 'login': 'Aleksei-Pisarev', ...</td>\n",
       "      <td>{'id': 591521475, 'name': 'Aleksei-Pisarev/-_-...</td>\n",
       "      <td>{'action': 'closed', 'number': 1, 'pull_reques...</td>\n",
       "      <td>True</td>\n",
       "      <td>2023-01-21 01:59:59+00:00</td>\n",
       "      <td>NaN</td>\n",
       "    </tr>\n",
       "    <tr>\n",
       "      <th>118427</th>\n",
       "      <td>26569793635</td>\n",
       "      <td>PushEvent</td>\n",
       "      <td>{'id': 99461341, 'login': 'uddpmibojonegoro', ...</td>\n",
       "      <td>{'id': 458041495, 'name': 'uddpmibojonegoro/bl...</td>\n",
       "      <td>{'push_id': 12355947931, 'size': 1, 'distinct_...</td>\n",
       "      <td>True</td>\n",
       "      <td>2023-01-21 01:59:59+00:00</td>\n",
       "      <td>NaN</td>\n",
       "    </tr>\n",
       "    <tr>\n",
       "      <th>118428</th>\n",
       "      <td>26569793638</td>\n",
       "      <td>PushEvent</td>\n",
       "      <td>{'id': 5994282, 'login': 'fhernanb', 'display_...</td>\n",
       "      <td>{'id': 589346942, 'name': 'fhernanb/myweb', 'u...</td>\n",
       "      <td>{'push_id': 12355947913, 'size': 1, 'distinct_...</td>\n",
       "      <td>True</td>\n",
       "      <td>2023-01-21 01:59:59+00:00</td>\n",
       "      <td>NaN</td>\n",
       "    </tr>\n",
       "    <tr>\n",
       "      <th>118429</th>\n",
       "      <td>26569793646</td>\n",
       "      <td>CreateEvent</td>\n",
       "      <td>{'id': 79184382, 'login': 'nailanabilaaaaaa', ...</td>\n",
       "      <td>{'id': 591531446, 'name': 'nailanabilaaaaaa/po...</td>\n",
       "      <td>{'ref': 'master', 'ref_type': 'branch', 'maste...</td>\n",
       "      <td>True</td>\n",
       "      <td>2023-01-21 01:59:59+00:00</td>\n",
       "      <td>NaN</td>\n",
       "    </tr>\n",
       "    <tr>\n",
       "      <th>118430</th>\n",
       "      <td>26569793712</td>\n",
       "      <td>PullRequestReviewCommentEvent</td>\n",
       "      <td>{'id': 40010878, 'login': 'j2woo', 'display_lo...</td>\n",
       "      <td>{'id': 581707919, 'name': 'woocheonjae/HiRolli...</td>\n",
       "      <td>{'action': 'created', 'comment': {'url': 'http...</td>\n",
       "      <td>True</td>\n",
       "      <td>2023-01-21 01:59:59+00:00</td>\n",
       "      <td>{'id': 120018896, 'login': 'woocheonjae', 'gra...</td>\n",
       "    </tr>\n",
       "  </tbody>\n",
       "</table>\n",
       "<p>118431 rows × 8 columns</p>\n",
       "</div>"
      ],
      "text/plain": [
       "                 id                           type  \\\n",
       "0       26569413474                    DeleteEvent   \n",
       "1       26569413478                      PushEvent   \n",
       "2       26569413479                      PushEvent   \n",
       "3       26569413482                      PushEvent   \n",
       "4       26569413484                      PushEvent   \n",
       "...             ...                            ...   \n",
       "118426  26569793632               PullRequestEvent   \n",
       "118427  26569793635                      PushEvent   \n",
       "118428  26569793638                      PushEvent   \n",
       "118429  26569793646                    CreateEvent   \n",
       "118430  26569793712  PullRequestReviewCommentEvent   \n",
       "\n",
       "                                                    actor  \\\n",
       "0       {'id': 111725661, 'login': 'miin-jae-Kim', 'di...   \n",
       "1       {'id': 99461341, 'login': 'uddpmibojonegoro', ...   \n",
       "2       {'id': 41898282, 'login': 'github-actions[bot]...   \n",
       "3       {'id': 41898282, 'login': 'github-actions[bot]...   \n",
       "4       {'id': 8517910, 'login': 'LombiqBot', 'display...   \n",
       "...                                                   ...   \n",
       "118426  {'id': 114129384, 'login': 'Aleksei-Pisarev', ...   \n",
       "118427  {'id': 99461341, 'login': 'uddpmibojonegoro', ...   \n",
       "118428  {'id': 5994282, 'login': 'fhernanb', 'display_...   \n",
       "118429  {'id': 79184382, 'login': 'nailanabilaaaaaa', ...   \n",
       "118430  {'id': 40010878, 'login': 'j2woo', 'display_lo...   \n",
       "\n",
       "                                                     repo  \\\n",
       "0       {'id': 587736387, 'name': 'miin-jae-Kim/downta...   \n",
       "1       {'id': 458041495, 'name': 'uddpmibojonegoro/bl...   \n",
       "2       {'id': 528150168, 'name': 'AleksandrPav/cards'...   \n",
       "3       {'id': 580919687, 'name': 'wyo881mh/Green', 'u...   \n",
       "4       {'id': 410004154, 'name': 'Lombiq/TheBootstrap...   \n",
       "...                                                   ...   \n",
       "118426  {'id': 591521475, 'name': 'Aleksei-Pisarev/-_-...   \n",
       "118427  {'id': 458041495, 'name': 'uddpmibojonegoro/bl...   \n",
       "118428  {'id': 589346942, 'name': 'fhernanb/myweb', 'u...   \n",
       "118429  {'id': 591531446, 'name': 'nailanabilaaaaaa/po...   \n",
       "118430  {'id': 581707919, 'name': 'woocheonjae/HiRolli...   \n",
       "\n",
       "                                                  payload  public  \\\n",
       "0       {'ref': 'user_table', 'ref_type': 'branch', 'p...    True   \n",
       "1       {'push_id': 12355711323, 'size': 1, 'distinct_...    True   \n",
       "2       {'push_id': 12355711317, 'size': 1, 'distinct_...    True   \n",
       "3       {'push_id': 12355711322, 'size': 1, 'distinct_...    True   \n",
       "4       {'push_id': 12355711318, 'size': 0, 'distinct_...    True   \n",
       "...                                                   ...     ...   \n",
       "118426  {'action': 'closed', 'number': 1, 'pull_reques...    True   \n",
       "118427  {'push_id': 12355947931, 'size': 1, 'distinct_...    True   \n",
       "118428  {'push_id': 12355947913, 'size': 1, 'distinct_...    True   \n",
       "118429  {'ref': 'master', 'ref_type': 'branch', 'maste...    True   \n",
       "118430  {'action': 'created', 'comment': {'url': 'http...    True   \n",
       "\n",
       "                      created_at  \\\n",
       "0      2023-01-21 01:00:00+00:00   \n",
       "1      2023-01-21 01:00:00+00:00   \n",
       "2      2023-01-21 01:00:00+00:00   \n",
       "3      2023-01-21 01:00:00+00:00   \n",
       "4      2023-01-21 01:00:00+00:00   \n",
       "...                          ...   \n",
       "118426 2023-01-21 01:59:59+00:00   \n",
       "118427 2023-01-21 01:59:59+00:00   \n",
       "118428 2023-01-21 01:59:59+00:00   \n",
       "118429 2023-01-21 01:59:59+00:00   \n",
       "118430 2023-01-21 01:59:59+00:00   \n",
       "\n",
       "                                                      org  \n",
       "0                                                     NaN  \n",
       "1                                                     NaN  \n",
       "2                                                     NaN  \n",
       "3                                                     NaN  \n",
       "4       {'id': 8158177, 'login': 'Lombiq', 'gravatar_i...  \n",
       "...                                                   ...  \n",
       "118426                                                NaN  \n",
       "118427                                                NaN  \n",
       "118428                                                NaN  \n",
       "118429                                                NaN  \n",
       "118430  {'id': 120018896, 'login': 'woocheonjae', 'gra...  \n",
       "\n",
       "[118431 rows x 8 columns]"
      ]
     },
     "execution_count": 84,
     "metadata": {},
     "output_type": "execute_result"
    }
   ],
   "source": [
    "df"
   ]
  },
  {
   "cell_type": "code",
   "execution_count": 85,
   "metadata": {},
   "outputs": [
    {
     "data": {
      "text/plain": [
       "(118431, 8)"
      ]
     },
     "execution_count": 85,
     "metadata": {},
     "output_type": "execute_result"
    }
   ],
   "source": [
    "df.shape"
   ]
  }
 ],
 "metadata": {
  "kernelspec": {
   "display_name": "Python 3.9.15 ('paws-venv': venv)",
   "language": "python",
   "name": "python3"
  },
  "language_info": {
   "codemirror_mode": {
    "name": "ipython",
    "version": 3
   },
   "file_extension": ".py",
   "mimetype": "text/x-python",
   "name": "python",
   "nbconvert_exporter": "python",
   "pygments_lexer": "ipython3",
   "version": "3.9.16"
  },
  "orig_nbformat": 4,
  "vscode": {
   "interpreter": {
    "hash": "59fd66f99379daa34f6ec994426b3faaeb93c815a339923106359ffea855e2af"
   }
  }
 },
 "nbformat": 4,
 "nbformat_minor": 2
}
